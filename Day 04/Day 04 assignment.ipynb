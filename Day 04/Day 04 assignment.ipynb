{
 "cells": [
  {
   "cell_type": "markdown",
   "metadata": {},
   "source": [
    "1st problem"
   ]
  },
  {
   "cell_type": "code",
   "execution_count": 5,
   "metadata": {},
   "outputs": [
    {
     "name": "stdout",
     "output_type": "stream",
     "text": [
      "(5+7j)\n",
      "(1+1j)\n",
      "(-6+17j)\n",
      "(1.3846153846153848-0.07692307692307697j)\n",
      "floor division is not possible between complex numbers can't take floor of complex number.\n",
      "None\n"
     ]
    }
   ],
   "source": [
    "def addition(a,b):\n",
    "    return a+b\n",
    "def subtraction(a,b):\n",
    "    return a-b\n",
    "\n",
    "def multiplication(a,b):\n",
    "    return a*b\n",
    "\n",
    "def division(a,b):\n",
    "    return a/b\n",
    "#cannot cal floor division\n",
    "\n",
    "def floordiv(a,b):\n",
    "    try:\n",
    "        return a//b\n",
    "    except Exception as e:\n",
    "        print(\"floor division is not possible between complex numbers\",  e)\n",
    "\n",
    "print(addition(3+4j,2+3j))\n",
    "print(subtraction(3+4j,2+3j))\n",
    "\n",
    "print(multiplication(3+4j,2+3j))\n",
    "\n",
    "print(division(3+4j,2+3j))\n",
    "\n",
    "print(floordiv(3+4j,2+3j))\n",
    "\n",
    "\n",
    "\n"
   ]
  },
  {
   "cell_type": "markdown",
   "metadata": {},
   "source": [
    "2nd probelm"
   ]
  },
  {
   "cell_type": "markdown",
   "metadata": {},
   "source": [
    "range() is a built-in function used for doing a task multiple times under the interval defined in range. We use it for the need of iteration.\n",
    "\n",
    "It takes three arguments.\n",
    "\n",
    "syntax:\n",
    "\n",
    "range(first number as starting point, second number as terminate, third parameter as no of step)\n"
   ]
  },
  {
   "cell_type": "code",
   "execution_count": 8,
   "metadata": {},
   "outputs": [
    {
     "name": "stdout",
     "output_type": "stream",
     "text": [
      "1 3 5 7 9 "
     ]
    }
   ],
   "source": [
    "for i in range(1,10,2): \n",
    "    print(i, end =\" \") \n"
   ]
  },
  {
   "cell_type": "raw",
   "metadata": {},
   "source": [
    "3rd problem"
   ]
  },
  {
   "cell_type": "code",
   "execution_count": 9,
   "metadata": {},
   "outputs": [
    {
     "name": "stdout",
     "output_type": "stream",
     "text": [
      "take first number\n",
      "34\n",
      "take second number\n",
      "17\n",
      "do division\n",
      "result is 2.0\n"
     ]
    }
   ],
   "source": [
    "first_num=int(input(\"take first number\\n\"))\n",
    "second_num=int(input(\"take second number\\n\"))\n",
    "result=abs(first_num-second_num)\n",
    "if result>25:\n",
    "    \n",
    "    print(\"do multiplication\\n\")\n",
    "    mul=first_num*second_num\n",
    "    print(\"result is {}\".format(mul))\n",
    "else:\n",
    "    print(\"do division\")\n",
    "    div=first_num/second_num\n",
    "    print(\"result is {}\".format(div))"
   ]
  },
  {
   "cell_type": "markdown",
   "metadata": {},
   "source": [
    "4th problem"
   ]
  },
  {
   "cell_type": "code",
   "execution_count": 10,
   "metadata": {},
   "outputs": [
    {
     "name": "stdout",
     "output_type": "stream",
     "text": [
      "[2, 6082, 8098, 142, 3842, 5774, 7742]\n"
     ]
    }
   ],
   "source": [
    "list1=[2,45,23,78,90,12,62,76,88,21]\n",
    "new_list=list(filter(lambda x:x%2==0,list1))\n",
    "print(list(map(lambda x: x**2-2,new_list)))\n"
   ]
  },
  {
   "cell_type": "markdown",
   "metadata": {},
   "source": [
    "5th problem"
   ]
  },
  {
   "cell_type": "code",
   "execution_count": 12,
   "metadata": {},
   "outputs": [
    {
     "name": "stdout",
     "output_type": "stream",
     "text": [
      "12\n",
      "76\n",
      "98\n"
     ]
    }
   ],
   "source": [
    "list3=[2,6,9,12,76,41,19,1,7,98]\n",
    "for i in list3:\n",
    "    if i>7:\n",
    "        if i%2==0:\n",
    "            print(i,end='\\n')"
   ]
  },
  {
   "cell_type": "code",
   "execution_count": null,
   "metadata": {},
   "outputs": [],
   "source": []
  },
  {
   "cell_type": "code",
   "execution_count": null,
   "metadata": {},
   "outputs": [],
   "source": []
  },
  {
   "cell_type": "markdown",
   "metadata": {},
   "source": []
  },
  {
   "cell_type": "code",
   "execution_count": null,
   "metadata": {},
   "outputs": [],
   "source": []
  },
  {
   "cell_type": "code",
   "execution_count": null,
   "metadata": {},
   "outputs": [],
   "source": []
  },
  {
   "cell_type": "code",
   "execution_count": null,
   "metadata": {},
   "outputs": [],
   "source": []
  },
  {
   "cell_type": "code",
   "execution_count": null,
   "metadata": {},
   "outputs": [],
   "source": []
  },
  {
   "cell_type": "code",
   "execution_count": null,
   "metadata": {},
   "outputs": [],
   "source": []
  },
  {
   "cell_type": "code",
   "execution_count": null,
   "metadata": {},
   "outputs": [],
   "source": []
  },
  {
   "cell_type": "code",
   "execution_count": null,
   "metadata": {},
   "outputs": [],
   "source": []
  },
  {
   "cell_type": "code",
   "execution_count": null,
   "metadata": {},
   "outputs": [],
   "source": []
  },
  {
   "cell_type": "code",
   "execution_count": null,
   "metadata": {},
   "outputs": [],
   "source": []
  },
  {
   "cell_type": "code",
   "execution_count": null,
   "metadata": {},
   "outputs": [],
   "source": []
  },
  {
   "cell_type": "code",
   "execution_count": null,
   "metadata": {},
   "outputs": [],
   "source": []
  },
  {
   "cell_type": "code",
   "execution_count": null,
   "metadata": {},
   "outputs": [],
   "source": []
  },
  {
   "cell_type": "code",
   "execution_count": null,
   "metadata": {},
   "outputs": [],
   "source": []
  },
  {
   "cell_type": "code",
   "execution_count": null,
   "metadata": {},
   "outputs": [],
   "source": []
  },
  {
   "cell_type": "code",
   "execution_count": null,
   "metadata": {},
   "outputs": [],
   "source": []
  },
  {
   "cell_type": "code",
   "execution_count": null,
   "metadata": {},
   "outputs": [],
   "source": []
  },
  {
   "cell_type": "code",
   "execution_count": null,
   "metadata": {},
   "outputs": [],
   "source": []
  },
  {
   "cell_type": "code",
   "execution_count": null,
   "metadata": {},
   "outputs": [],
   "source": []
  },
  {
   "cell_type": "code",
   "execution_count": null,
   "metadata": {},
   "outputs": [],
   "source": []
  },
  {
   "cell_type": "code",
   "execution_count": null,
   "metadata": {},
   "outputs": [],
   "source": []
  },
  {
   "cell_type": "code",
   "execution_count": null,
   "metadata": {},
   "outputs": [],
   "source": []
  },
  {
   "cell_type": "code",
   "execution_count": null,
   "metadata": {},
   "outputs": [],
   "source": []
  }
 ],
 "metadata": {
  "kernelspec": {
   "display_name": "Python 3",
   "language": "python",
   "name": "python3"
  },
  "language_info": {
   "codemirror_mode": {
    "name": "ipython",
    "version": 3
   },
   "file_extension": ".py",
   "mimetype": "text/x-python",
   "name": "python",
   "nbconvert_exporter": "python",
   "pygments_lexer": "ipython3",
   "version": "3.7.6"
  }
 },
 "nbformat": 4,
 "nbformat_minor": 4
}
