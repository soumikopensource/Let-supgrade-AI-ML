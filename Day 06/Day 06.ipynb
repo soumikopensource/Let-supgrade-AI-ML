{
 "cells": [
  {
   "cell_type": "markdown",
   "metadata": {},
   "source": [
    "Author: Soumik Dey                                                                    14-07-2020"
   ]
  },
  {
   "cell_type": "markdown",
   "metadata": {},
   "source": [
    "1st problem"
   ]
  },
  {
   "cell_type": "markdown",
   "metadata": {},
   "source": [
    "email=str(input(\"enter the employer's email address\\n\"))\n",
    "store=\"\"\n",
    "for i in email:\n",
    "    if i=='@':\n",
    "        index=email.index(i)\n",
    "        store=email[index+1:]\n",
    "#print(store)\n",
    "result=store.replace(\".com\",\"\")\n",
    "print(result)"
   ]
  },
  {
   "cell_type": "markdown",
   "metadata": {},
   "source": [
    "2nd problem"
   ]
  },
  {
   "cell_type": "code",
   "execution_count": 2,
   "metadata": {},
   "outputs": [
    {
     "name": "stdout",
     "output_type": "stream",
     "text": [
      "enter the sentence as asked\n",
      "without,hello,bag,world\n",
      "['bag', 'hello', 'without', 'world']\n"
     ]
    }
   ],
   "source": [
    "comma_separated=str(input(\"enter the sentence as asked\\n\"))\n",
    "newlist=comma_separated.split(\",\")\n",
    "newlist.sort()\n",
    "print(newlist)"
   ]
  },
  {
   "cell_type": "markdown",
   "metadata": {},
   "source": [
    "3rd problem"
   ]
  },
  {
   "cell_type": "code",
   "execution_count": 3,
   "metadata": {},
   "outputs": [
    {
     "name": "stdout",
     "output_type": "stream",
     "text": [
      "{'banana', 'apple', 'cherry'}\n",
      "banana\n",
      "apple\n",
      "cherry\n",
      "{'banana', 'apple', 'orange', 'cherry'}\n",
      "{'banana', 'orange', 'apple', 'grapes', 'cherry', 'mango'}\n",
      "{'orange', 'apple', 'grapes', 'cherry', 'mango'}\n",
      "orange\n",
      "{'apple', 'grapes', 'cherry', 'mango'}\n",
      "{'b', 1, 2, 3, 'c', 'a'}\n"
     ]
    }
   ],
   "source": [
    "thisset = {\"apple\", \"banana\", \"cherry\"}\n",
    "print(thisset)\n",
    "for x in thisset:\n",
    "  print(x)\n",
    "thisset.add(\"orange\")\n",
    "\n",
    "print(thisset)\n",
    "thisset.update([\"orange\", \"mango\", \"grapes\"])\n",
    "\n",
    "print(thisset)\n",
    "thisset.remove(\"banana\")\n",
    "\n",
    "print(thisset)\n",
    "x = thisset.pop()\n",
    "\n",
    "print(x)\n",
    "\n",
    "print(thisset)\n",
    "set1 = {\"a\", \"b\" , \"c\"}\n",
    "set2 = {1, 2, 3}\n",
    "\n",
    "set3 = set1.union(set2)\n",
    "print(set3)"
   ]
  },
  {
   "cell_type": "markdown",
   "metadata": {},
   "source": [
    "4th problem"
   ]
  },
  {
   "cell_type": "code",
   "execution_count": 6,
   "metadata": {},
   "outputs": [
    {
     "name": "stdout",
     "output_type": "stream",
     "text": [
      "take a range\n",
      "4\n",
      "[1, 2, 3]\n",
      "want to take input, yes/no???yes\n",
      "take input1\n",
      "want to take input, yes/no???yes\n",
      "take input2\n",
      "want to take input, yes/no???no\n",
      "[1, 2]\n",
      "missing items\n",
      "[3]\n"
     ]
    }
   ],
   "source": [
    "n=int(input(\"take a range\\n\"))\n",
    "my_list=[]\n",
    "new_list=[]     \n",
    "for i in range(1,n):\n",
    "      my_list.append(i)\n",
    "\n",
    "print(my_list)\n",
    "def input_func():\n",
    "    \n",
    "    while True:\n",
    "        input1=str(input(\"want to take input, yes/no???\"))\n",
    "        if input1=='yes':\n",
    "            store=int(input(\"take input\"))\n",
    "            new_list.append(store)\n",
    "        if input1=='no':\n",
    "            break\n",
    "    return new_list\n",
    "m=input_func()\n",
    "print(m)\n",
    "print('missing items')\n",
    "print(list(set(my_list).difference(m)))   \n",
    "        "
   ]
  },
  {
   "cell_type": "markdown",
   "metadata": {},
   "source": [
    "problem 5"
   ]
  },
  {
   "cell_type": "code",
   "execution_count": 7,
   "metadata": {},
   "outputs": [
    {
     "name": "stdout",
     "output_type": "stream",
     "text": [
      "0\n",
      "want to take input, press yes othrwise press anything\n",
      "yes\n",
      "take input\n",
      "3\n",
      "want to take input, press yes othrwise press anything\n",
      "yes\n",
      "take input\n",
      "5\n",
      "want to take input, press yes othrwise press anything\n",
      "yes\n",
      "take input\n",
      "9\n",
      "want to take input, press yes othrwise press anything\n",
      "yes\n",
      "take input\n",
      "5\n",
      "want to take input, press yes othrwise press anything\n",
      "yes\n",
      "take input\n",
      "8\n",
      "want to take input, press yes othrwise press anything\n",
      "yes\n",
      "take input\n",
      "8\n",
      "want to take input, press yes othrwise press anything\n",
      "no\n",
      "[3, 5, 9, 8]\n"
     ]
    }
   ],
   "source": [
    "#very good working code\n",
    "my_list=[]\n",
    "print(len(my_list))\n",
    "\n",
    "while True:\n",
    "      \n",
    "      inp=str(input(\"want to take input, press yes othrwise press anything\\n\"))\n",
    "      if inp=='yes':\n",
    "            ele=int(input(\"take input\\n\"))\n",
    "            my_list.append(ele)\n",
    "      else:\n",
    "            break\n",
    "      \n",
    "uni_list=[]\n",
    "for i in my_list:\n",
    "      if i not in uni_list:\n",
    "            uni_list.append(i)\n",
    "\n",
    "print(uni_list)\n"
   ]
  },
  {
   "cell_type": "code",
   "execution_count": null,
   "metadata": {},
   "outputs": [],
   "source": []
  },
  {
   "cell_type": "code",
   "execution_count": null,
   "metadata": {},
   "outputs": [],
   "source": []
  },
  {
   "cell_type": "code",
   "execution_count": null,
   "metadata": {},
   "outputs": [],
   "source": []
  },
  {
   "cell_type": "code",
   "execution_count": null,
   "metadata": {},
   "outputs": [],
   "source": []
  },
  {
   "cell_type": "code",
   "execution_count": null,
   "metadata": {},
   "outputs": [],
   "source": []
  },
  {
   "cell_type": "code",
   "execution_count": null,
   "metadata": {},
   "outputs": [],
   "source": []
  },
  {
   "cell_type": "code",
   "execution_count": null,
   "metadata": {},
   "outputs": [],
   "source": []
  },
  {
   "cell_type": "code",
   "execution_count": null,
   "metadata": {},
   "outputs": [],
   "source": []
  },
  {
   "cell_type": "code",
   "execution_count": null,
   "metadata": {},
   "outputs": [],
   "source": []
  },
  {
   "cell_type": "code",
   "execution_count": null,
   "metadata": {},
   "outputs": [],
   "source": []
  },
  {
   "cell_type": "code",
   "execution_count": null,
   "metadata": {},
   "outputs": [],
   "source": []
  },
  {
   "cell_type": "code",
   "execution_count": null,
   "metadata": {},
   "outputs": [],
   "source": []
  },
  {
   "cell_type": "code",
   "execution_count": null,
   "metadata": {},
   "outputs": [],
   "source": []
  },
  {
   "cell_type": "code",
   "execution_count": null,
   "metadata": {},
   "outputs": [],
   "source": []
  },
  {
   "cell_type": "code",
   "execution_count": null,
   "metadata": {},
   "outputs": [],
   "source": []
  },
  {
   "cell_type": "code",
   "execution_count": null,
   "metadata": {},
   "outputs": [],
   "source": []
  },
  {
   "cell_type": "code",
   "execution_count": null,
   "metadata": {},
   "outputs": [],
   "source": []
  }
 ],
 "metadata": {
  "kernelspec": {
   "display_name": "Python 3",
   "language": "python",
   "name": "python3"
  },
  "language_info": {
   "codemirror_mode": {
    "name": "ipython",
    "version": 3
   },
   "file_extension": ".py",
   "mimetype": "text/x-python",
   "name": "python",
   "nbconvert_exporter": "python",
   "pygments_lexer": "ipython3",
   "version": "3.7.6"
  }
 },
 "nbformat": 4,
 "nbformat_minor": 4
}
