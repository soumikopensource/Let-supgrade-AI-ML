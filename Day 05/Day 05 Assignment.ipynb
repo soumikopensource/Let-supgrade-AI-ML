{
 "cells": [
  {
   "cell_type": "markdown",
   "metadata": {},
   "source": [
    "1st problem"
   ]
  },
  {
   "cell_type": "code",
   "execution_count": 2,
   "metadata": {},
   "outputs": [
    {
     "name": "stdout",
     "output_type": "stream",
     "text": [
      "3\n",
      "5\n",
      "7\n",
      "11\n",
      "13\n",
      "17\n",
      "19\n"
     ]
    }
   ],
   "source": [
    "def print_prime(numbers):\n",
    "    if numbers>2:\n",
    "        for i in range(2,numbers):\n",
    "            if numbers%i==0:\n",
    "                break\n",
    "        else:\n",
    "            print(numbers)\n",
    "for i in range(20):\n",
    "    print_prime(i)"
   ]
  },
  {
   "cell_type": "markdown",
   "metadata": {},
   "source": [
    "2nd problem"
   ]
  },
  {
   "cell_type": "code",
   "execution_count": 3,
   "metadata": {},
   "outputs": [
    {
     "name": "stdout",
     "output_type": "stream",
     "text": [
      "Soumik will be a good boy\n",
      "['Soumik', 'is', 'a', 'good', 'boy']\n",
      "False\n",
      "SOUMIK IS A GOOD BOY\n",
      "soumik is a good boy\n",
      "sOUMIK IS A GOOD BOY\n",
      "Soumik Is A Good Boy\n",
      "umik \n",
      "Soumik is a good boy\n",
      "False\n"
     ]
    }
   ],
   "source": [
    "def give_a_string(string):\n",
    "    print(string.replace('is','will be'))\n",
    "    print(string.split(\" \"))\n",
    "    print(string.isdigit())\n",
    "    print(string.upper())\n",
    "    print(string.lower())\n",
    "    print(string.swapcase())\n",
    "    print(string.title())\n",
    "    print(string[2:7])\n",
    "    print(string.capitalize())\n",
    "    print(string.isupper())\n",
    "\n",
    "give_a_string(\"Soumik is a good boy\")"
   ]
  },
  {
   "cell_type": "markdown",
   "metadata": {},
   "source": [
    "3rd problem"
   ]
  },
  {
   "cell_type": "code",
   "execution_count": 5,
   "metadata": {},
   "outputs": [
    {
     "name": "stdout",
     "output_type": "stream",
     "text": [
      "The two strings are not anagram of each other\n",
      "It is Pallindrome\n"
     ]
    }
   ],
   "source": [
    "def areAnagram(str1, str2):  \n",
    "    # Get lengths of both strings  \n",
    "    n1 = len(str1)  \n",
    "    n2 = len(str2)  \n",
    "  \n",
    "    # If length of both strings is not same, then  \n",
    "    # they cannot be anagram  \n",
    "    if n1 != n2:  \n",
    "        return 0\n",
    "  \n",
    "    # Sort both strings  \n",
    "    str1 = sorted(str1) \n",
    "    str2 = sorted(str2) \n",
    "  \n",
    "    # Compare sorted strings  \n",
    "    for i in range(0, n1):  \n",
    "        if str1[i] != str2[i]:  \n",
    "            return 0\n",
    "  \n",
    "    return 1\n",
    "  \n",
    "  \n",
    "# Driver program to test the above function  \n",
    "str1 = \"test\"\n",
    "str2 = \"ttew\"\n",
    "if areAnagram(str1, str2):  \n",
    "    print (\"The two strings are anagram of each other\") \n",
    "else:  \n",
    "    print (\"The two strings are not anagram of each other\")\n",
    "\n",
    "\n",
    "\n",
    " \n",
    "def isPalindrome(s): \n",
    "    return s == s[::-1] \n",
    "  \n",
    "s = \"malayalam\"\n",
    "ans = isPalindrome(s) \n",
    "  \n",
    "if ans: \n",
    "    print(\"It is Pallindrome\") \n",
    "else: \n",
    "    print(\"No It is not\") \n"
   ]
  },
  {
   "cell_type": "markdown",
   "metadata": {},
   "source": [
    "4th problem"
   ]
  },
  {
   "cell_type": "code",
   "execution_count": 6,
   "metadata": {},
   "outputs": [
    {
     "name": "stdout",
     "output_type": "stream",
     "text": [
      "drdarshaningleaimltrainer\n"
     ]
    }
   ],
   "source": [
    "myString=\"Dr. Darshan Ingle @AI-ML Trainer\"\n",
    "bad_characters=['.','@','-',' ']\n",
    "for i in bad_characters:\n",
    "    myString=myString.replace(i,\"\")\n",
    "print(str(myString.lower()))"
   ]
  },
  {
   "cell_type": "code",
   "execution_count": null,
   "metadata": {},
   "outputs": [],
   "source": []
  },
  {
   "cell_type": "code",
   "execution_count": null,
   "metadata": {},
   "outputs": [],
   "source": []
  },
  {
   "cell_type": "code",
   "execution_count": null,
   "metadata": {},
   "outputs": [],
   "source": []
  },
  {
   "cell_type": "code",
   "execution_count": null,
   "metadata": {},
   "outputs": [],
   "source": []
  },
  {
   "cell_type": "code",
   "execution_count": null,
   "metadata": {},
   "outputs": [],
   "source": []
  },
  {
   "cell_type": "code",
   "execution_count": null,
   "metadata": {},
   "outputs": [],
   "source": []
  },
  {
   "cell_type": "code",
   "execution_count": null,
   "metadata": {},
   "outputs": [],
   "source": []
  },
  {
   "cell_type": "code",
   "execution_count": null,
   "metadata": {},
   "outputs": [],
   "source": []
  },
  {
   "cell_type": "code",
   "execution_count": null,
   "metadata": {},
   "outputs": [],
   "source": []
  },
  {
   "cell_type": "code",
   "execution_count": null,
   "metadata": {},
   "outputs": [],
   "source": []
  },
  {
   "cell_type": "code",
   "execution_count": null,
   "metadata": {},
   "outputs": [],
   "source": []
  },
  {
   "cell_type": "code",
   "execution_count": null,
   "metadata": {},
   "outputs": [],
   "source": []
  },
  {
   "cell_type": "code",
   "execution_count": null,
   "metadata": {},
   "outputs": [],
   "source": []
  },
  {
   "cell_type": "code",
   "execution_count": null,
   "metadata": {},
   "outputs": [],
   "source": []
  },
  {
   "cell_type": "code",
   "execution_count": null,
   "metadata": {},
   "outputs": [],
   "source": []
  },
  {
   "cell_type": "code",
   "execution_count": null,
   "metadata": {},
   "outputs": [],
   "source": []
  },
  {
   "cell_type": "code",
   "execution_count": null,
   "metadata": {},
   "outputs": [],
   "source": []
  },
  {
   "cell_type": "code",
   "execution_count": null,
   "metadata": {},
   "outputs": [],
   "source": []
  },
  {
   "cell_type": "code",
   "execution_count": null,
   "metadata": {},
   "outputs": [],
   "source": []
  }
 ],
 "metadata": {
  "kernelspec": {
   "display_name": "Python 3",
   "language": "python",
   "name": "python3"
  },
  "language_info": {
   "codemirror_mode": {
    "name": "ipython",
    "version": 3
   },
   "file_extension": ".py",
   "mimetype": "text/x-python",
   "name": "python",
   "nbconvert_exporter": "python",
   "pygments_lexer": "ipython3",
   "version": "3.7.6"
  }
 },
 "nbformat": 4,
 "nbformat_minor": 4
}
