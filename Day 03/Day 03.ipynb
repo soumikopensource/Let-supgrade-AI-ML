{
 "cells": [
  {
   "cell_type": "code",
   "execution_count": null,
   "metadata": {
    "colab": {
     "base_uri": "https://localhost:8080/",
     "height": 34
    },
    "colab_type": "code",
    "id": "s0-4W9zGwq-E",
    "outputId": "aec1c9db-c151-4b26-8664-103d8905eaf3"
   },
   "outputs": [
    {
     "name": "stdout",
     "output_type": "stream",
     "text": [
      "subtraction of two complex number is: (1+5j)\n"
     ]
    }
   ],
   "source": [
    "#use of complex numbers\n",
    "i=(10+9j)-(9+4j)\n",
    "print(\"subtraction of two complex number is:\",i)"
   ]
  },
  {
   "cell_type": "code",
   "execution_count": null,
   "metadata": {},
   "outputs": [],
   "source": []
  },
  {
   "cell_type": "code",
   "execution_count": null,
   "metadata": {},
   "outputs": [],
   "source": []
  },
  {
   "cell_type": "code",
   "execution_count": null,
   "metadata": {},
   "outputs": [],
   "source": []
  },
  {
   "cell_type": "code",
   "execution_count": null,
   "metadata": {},
   "outputs": [],
   "source": []
  },
  {
   "cell_type": "code",
   "execution_count": null,
   "metadata": {},
   "outputs": [],
   "source": []
  },
  {
   "cell_type": "code",
   "execution_count": null,
   "metadata": {
    "colab": {
     "base_uri": "https://localhost:8080/",
     "height": 34
    },
    "colab_type": "code",
    "id": "vCSQh6l1yR1I",
    "outputId": "f8acddbb-df32-49f8-a40b-003d38ce1419"
   },
   "outputs": [
    {
     "name": "stdout",
     "output_type": "stream",
     "text": [
      "4th root of a number is  2.0\n"
     ]
    }
   ],
   "source": [
    "number=16\n",
    "print(\"4th root of a number is \",number**(1/4))"
   ]
  },
  {
   "cell_type": "code",
   "execution_count": 11,
   "metadata": {
    "colab": {
     "base_uri": "https://localhost:8080/",
     "height": 51
    },
    "colab_type": "code",
    "id": "3HYChDQ6z3iy",
    "outputId": "fae48f07-1a6e-4e67-b2db-edc3b1f722e0"
   },
   "outputs": [
    {
     "name": "stdout",
     "output_type": "stream",
     "text": [
      "before swapping: 7 8\n",
      "after swapping: 8 7\n"
     ]
    }
   ],
   "source": [
    "a=7\n",
    "b=8\n",
    "print(\"before swapping:\",a,b)\n",
    "c=a\n",
    "a=b\n",
    "b=c\n",
    "print(\"after swapping:\",a,b)\n"
   ]
  },
  {
   "cell_type": "code",
   "execution_count": null,
   "metadata": {
    "colab": {
     "base_uri": "https://localhost:8080/",
     "height": 51
    },
    "colab_type": "code",
    "id": "Ip_FtVWB2OSa",
    "outputId": "3947d07f-2347-403d-d158-bd927b613deb"
   },
   "outputs": [
    {
     "name": "stdout",
     "output_type": "stream",
     "text": [
      "before swapping: 9 5\n",
      "after swapping: 5 9\n"
     ]
    }
   ],
   "source": [
    "a=9\n",
    "b=5\n",
    "print(\"before swapping:\",a,b)\n",
    "a=a-b\n",
    "b=a+b\n",
    "a=b-a\n",
    "print(\"after swapping:\",a,b)"
   ]
  },
  {
   "cell_type": "code",
   "execution_count": null,
   "metadata": {
    "colab": {
     "base_uri": "https://localhost:8080/",
     "height": 51
    },
    "colab_type": "code",
    "id": "qEohOYCg_QtH",
    "outputId": "14c3c471-251b-4116-d341-12afe1ce9a45"
   },
   "outputs": [
    {
     "name": "stdout",
     "output_type": "stream",
     "text": [
      "10.0\n",
      "50.0\n"
     ]
    }
   ],
   "source": [
    "farhenheit=50\n",
    "celsius=((farhenheit-32)*5)/9\n",
    "farhenheit=(celsius*9/5)+32\n",
    "print(celsius)\n",
    "print(farhenheit)"
   ]
  },
  {
   "cell_type": "code",
   "execution_count": 1,
   "metadata": {
    "colab": {
     "base_uri": "https://localhost:8080/",
     "height": 153
    },
    "colab_type": "code",
    "id": "DhLp9kquROZs",
    "outputId": "2cc0cd1f-e9a2-46a6-cbbd-1e132a974d84"
   },
   "outputs": [
    {
     "name": "stdout",
     "output_type": "stream",
     "text": [
      "<class 'str'>\n",
      "<class 'int'>\n",
      "<class 'float'>\n",
      "<class 'complex'>\n",
      "<class 'list'>\n",
      "<class 'tuple'>\n",
      "<class 'set'>\n",
      "<class 'dict'>\n"
     ]
    }
   ],
   "source": [
    "a=\"soumik\"\n",
    "b=2\n",
    "c=2.6\n",
    "d=1+1j\n",
    "e=[\"a\",\"b\",\"c\"]\n",
    "f=(\"a\",\"b\",\"c\")\n",
    "g={\"a\",\"b\",\"c\"}\n",
    "h={\"name\":\"soumik\",\"age\":70}\n",
    "print(type(a))\n",
    "print(type(b))\n",
    "print(type(c))\n",
    "print(type(d))\n",
    "print(type(e))\n",
    "print(type(f))\n",
    "print(type(g))\n",
    "print(type(h))"
   ]
  },
  {
   "cell_type": "markdown",
   "metadata": {},
   "source": [
    "1.create your own github profile. \n",
    "\n",
    "2.make a repository named letsUpgrade-AI-ML.\n",
    "\n",
    "3.under this repository upload the assignment of the day.\n",
    "\n",
    "4.open the letsUpgrade assignment submission link,fill your github repository URL and then submit."
   ]
  },
  {
   "cell_type": "code",
   "execution_count": null,
   "metadata": {},
   "outputs": [],
   "source": []
  },
  {
   "cell_type": "code",
   "execution_count": null,
   "metadata": {},
   "outputs": [],
   "source": []
  },
  {
   "cell_type": "code",
   "execution_count": null,
   "metadata": {},
   "outputs": [],
   "source": []
  },
  {
   "cell_type": "code",
   "execution_count": null,
   "metadata": {},
   "outputs": [],
   "source": []
  },
  {
   "cell_type": "code",
   "execution_count": null,
   "metadata": {},
   "outputs": [],
   "source": []
  },
  {
   "cell_type": "code",
   "execution_count": null,
   "metadata": {},
   "outputs": [],
   "source": []
  },
  {
   "cell_type": "code",
   "execution_count": null,
   "metadata": {},
   "outputs": [],
   "source": []
  },
  {
   "cell_type": "code",
   "execution_count": null,
   "metadata": {},
   "outputs": [],
   "source": []
  }
 ],
 "metadata": {
  "colab": {
   "collapsed_sections": [],
   "name": "Untitled",
   "provenance": []
  },
  "kernelspec": {
   "display_name": "Python 3",
   "language": "python",
   "name": "python3"
  },
  "language_info": {
   "codemirror_mode": {
    "name": "ipython",
    "version": 3
   },
   "file_extension": ".py",
   "mimetype": "text/x-python",
   "name": "python",
   "nbconvert_exporter": "python",
   "pygments_lexer": "ipython3",
   "version": "3.7.6"
  }
 },
 "nbformat": 4,
 "nbformat_minor": 1
}
